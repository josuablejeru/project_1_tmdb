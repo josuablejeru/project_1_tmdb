{
 "cells": [
  {
   "cell_type": "code",
   "execution_count": 14,
   "id": "45504787-27d3-426f-bbd9-70e4a24cc8f4",
   "metadata": {},
   "outputs": [],
   "source": [
    "import pandas as pd\n",
    "import matplotlib.pylab as plt\n",
    "%matplotlib inline"
   ]
  },
  {
   "cell_type": "code",
   "execution_count": 43,
   "id": "5cef483a-6f6b-41a7-bd90-c719036cbc7a",
   "metadata": {},
   "outputs": [],
   "source": [
    "path_demand_satisfied_percentage = './data/ddf--unpop--family_planning_indicators-master/ddf--datapoints--demand_satisfied_percentage--by--country--method--year.csv'\n",
    "path_contraceptive_prevalence_number = './data/ddf--unpop--family_planning_indicators-master/ddf--datapoints--contraceptive_prevalence_number--by--country--method--year.csv'\n",
    "df_path_contraceptive_prevalence_number = pd.read_csv(path_contraceptive_prevalence_number)\n",
    "df_path_demand_satisfied_percentage = pd.read_csv(path_demand_satisfied_percentage)\n"
   ]
  },
  {
   "cell_type": "code",
   "execution_count": 42,
   "id": "e7c013aa",
   "metadata": {},
   "outputs": [
    {
     "data": {
      "text/html": [
       "<div>\n",
       "<style scoped>\n",
       "    .dataframe tbody tr th:only-of-type {\n",
       "        vertical-align: middle;\n",
       "    }\n",
       "\n",
       "    .dataframe tbody tr th {\n",
       "        vertical-align: top;\n",
       "    }\n",
       "\n",
       "    .dataframe thead th {\n",
       "        text-align: right;\n",
       "    }\n",
       "</style>\n",
       "<table border=\"1\" class=\"dataframe\">\n",
       "  <thead>\n",
       "    <tr style=\"text-align: right;\">\n",
       "      <th></th>\n",
       "      <th>country</th>\n",
       "      <th>method</th>\n",
       "      <th>year</th>\n",
       "      <th>contraceptive_prevalence_number</th>\n",
       "    </tr>\n",
       "  </thead>\n",
       "  <tbody>\n",
       "    <tr>\n",
       "      <th>0</th>\n",
       "      <td>afghanistan</td>\n",
       "      <td>any</td>\n",
       "      <td>1970</td>\n",
       "      <td>34.0</td>\n",
       "    </tr>\n",
       "    <tr>\n",
       "      <th>1</th>\n",
       "      <td>afghanistan</td>\n",
       "      <td>any</td>\n",
       "      <td>1971</td>\n",
       "      <td>37.4</td>\n",
       "    </tr>\n",
       "    <tr>\n",
       "      <th>2</th>\n",
       "      <td>afghanistan</td>\n",
       "      <td>any</td>\n",
       "      <td>1972</td>\n",
       "      <td>41.1</td>\n",
       "    </tr>\n",
       "    <tr>\n",
       "      <th>3</th>\n",
       "      <td>afghanistan</td>\n",
       "      <td>any</td>\n",
       "      <td>1973</td>\n",
       "      <td>45.1</td>\n",
       "    </tr>\n",
       "    <tr>\n",
       "      <th>4</th>\n",
       "      <td>afghanistan</td>\n",
       "      <td>any</td>\n",
       "      <td>1974</td>\n",
       "      <td>48.9</td>\n",
       "    </tr>\n",
       "  </tbody>\n",
       "</table>\n",
       "</div>"
      ],
      "text/plain": [
       "       country method  year  contraceptive_prevalence_number\n",
       "0  afghanistan    any  1970                             34.0\n",
       "1  afghanistan    any  1971                             37.4\n",
       "2  afghanistan    any  1972                             41.1\n",
       "3  afghanistan    any  1973                             45.1\n",
       "4  afghanistan    any  1974                             48.9"
      ]
     },
     "execution_count": 42,
     "metadata": {},
     "output_type": "execute_result"
    }
   ],
   "source": [
    "df_path_contraceptive_prevalence_number.head()"
   ]
  },
  {
   "cell_type": "code",
   "execution_count": 44,
   "id": "4a344ee6",
   "metadata": {},
   "outputs": [
    {
     "data": {
      "text/html": [
       "<div>\n",
       "<style scoped>\n",
       "    .dataframe tbody tr th:only-of-type {\n",
       "        vertical-align: middle;\n",
       "    }\n",
       "\n",
       "    .dataframe tbody tr th {\n",
       "        vertical-align: top;\n",
       "    }\n",
       "\n",
       "    .dataframe thead th {\n",
       "        text-align: right;\n",
       "    }\n",
       "</style>\n",
       "<table border=\"1\" class=\"dataframe\">\n",
       "  <thead>\n",
       "    <tr style=\"text-align: right;\">\n",
       "      <th></th>\n",
       "      <th>country</th>\n",
       "      <th>method</th>\n",
       "      <th>year</th>\n",
       "      <th>demand_satisfied_percentage</th>\n",
       "    </tr>\n",
       "  </thead>\n",
       "  <tbody>\n",
       "    <tr>\n",
       "      <th>0</th>\n",
       "      <td>afghanistan</td>\n",
       "      <td>any</td>\n",
       "      <td>1970</td>\n",
       "      <td>5.9</td>\n",
       "    </tr>\n",
       "    <tr>\n",
       "      <th>1</th>\n",
       "      <td>afghanistan</td>\n",
       "      <td>any</td>\n",
       "      <td>1971</td>\n",
       "      <td>6.3</td>\n",
       "    </tr>\n",
       "    <tr>\n",
       "      <th>2</th>\n",
       "      <td>afghanistan</td>\n",
       "      <td>any</td>\n",
       "      <td>1972</td>\n",
       "      <td>6.7</td>\n",
       "    </tr>\n",
       "    <tr>\n",
       "      <th>3</th>\n",
       "      <td>afghanistan</td>\n",
       "      <td>any</td>\n",
       "      <td>1973</td>\n",
       "      <td>7.2</td>\n",
       "    </tr>\n",
       "    <tr>\n",
       "      <th>4</th>\n",
       "      <td>afghanistan</td>\n",
       "      <td>any</td>\n",
       "      <td>1974</td>\n",
       "      <td>7.6</td>\n",
       "    </tr>\n",
       "  </tbody>\n",
       "</table>\n",
       "</div>"
      ],
      "text/plain": [
       "       country method  year  demand_satisfied_percentage\n",
       "0  afghanistan    any  1970                          5.9\n",
       "1  afghanistan    any  1971                          6.3\n",
       "2  afghanistan    any  1972                          6.7\n",
       "3  afghanistan    any  1973                          7.2\n",
       "4  afghanistan    any  1974                          7.6"
      ]
     },
     "execution_count": 44,
     "metadata": {},
     "output_type": "execute_result"
    }
   ],
   "source": [
    "df_path_demand_satisfied_percentage.head()"
   ]
  },
  {
   "cell_type": "code",
   "execution_count": null,
   "id": "1f15c786",
   "metadata": {},
   "outputs": [],
   "source": []
  }
 ],
 "metadata": {
  "kernelspec": {
   "display_name": "base",
   "language": "python",
   "name": "python3"
  },
  "language_info": {
   "codemirror_mode": {
    "name": "ipython",
    "version": 3
   },
   "file_extension": ".py",
   "mimetype": "text/x-python",
   "name": "python",
   "nbconvert_exporter": "python",
   "pygments_lexer": "ipython3",
   "version": "3.9.13"
  },
  "vscode": {
   "interpreter": {
    "hash": "d4d1e4263499bec80672ea0156c357c1ee493ec2b1c70f0acce89fc37c4a6abe"
   }
  }
 },
 "nbformat": 4,
 "nbformat_minor": 5
}
